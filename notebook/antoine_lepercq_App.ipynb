{
 "cells": [
  {
   "cell_type": "markdown",
   "metadata": {},
   "source": [
    "# DicoCo\n",
    "\n",
    "*antoine LEPERCQ*"
   ]
  },
  {
   "cell_type": "code",
   "execution_count": 1,
   "metadata": {},
   "outputs": [],
   "source": [
    "# import necessaire à la création des widgets\n",
    "import os\n",
    "import re\n",
    "import pandas as pd\n",
    "import requests\n",
    "import ipywidgets as widgets\n",
    "from IPython.display import display, clear_output, HTML, Markdown, Audio\n",
    "from requests_html import HTMLSession\n",
    "from bs4 import BeautifulSoup\n",
    "#for loading and visualizing audio files\n",
    "import matplotlib.pyplot as plt\n",
    "import librosa\n",
    "import librosa.display\n",
    "import numpy as np\n",
    "\n",
    "os.chdir(r\"D:\\Antoine\\CNAM\\3A\\WS\\cnam-athon-pronunciation-main\\data\")"
   ]
  },
  {
   "cell_type": "code",
   "execution_count": 2,
   "metadata": {},
   "outputs": [],
   "source": [
    "buchanan = pd.read_csv(\"dataframe\\BigiRichSample.csv\", sep=\";\", encoding=\"utf-8\")"
   ]
  },
  {
   "cell_type": "code",
   "execution_count": 3,
   "metadata": {},
   "outputs": [
    {
     "data": {
      "text/html": [
       "<div>\n",
       "<style scoped>\n",
       "    .dataframe tbody tr th:only-of-type {\n",
       "        vertical-align: middle;\n",
       "    }\n",
       "\n",
       "    .dataframe tbody tr th {\n",
       "        vertical-align: top;\n",
       "    }\n",
       "\n",
       "    .dataframe thead th {\n",
       "        text-align: right;\n",
       "    }\n",
       "</style>\n",
       "<table border=\"1\" class=\"dataframe\">\n",
       "  <thead>\n",
       "    <tr style=\"text-align: right;\">\n",
       "      <th></th>\n",
       "      <th>nbSyll</th>\n",
       "      <th>pron</th>\n",
       "      <th>origin</th>\n",
       "      <th>warning</th>\n",
       "      <th>remarques</th>\n",
       "      <th>POS</th>\n",
       "      <th>lineId</th>\n",
       "      <th>pageId</th>\n",
       "      <th>sizePron</th>\n",
       "      <th>motVedette</th>\n",
       "      <th>hwd</th>\n",
       "      <th>pronSampa</th>\n",
       "      <th>ipa</th>\n",
       "    </tr>\n",
       "  </thead>\n",
       "  <tbody>\n",
       "    <tr>\n",
       "      <th>0</th>\n",
       "      <td>3</td>\n",
       "      <td>aʹbăcus</td>\n",
       "      <td>NaN</td>\n",
       "      <td>NaN</td>\n",
       "      <td>NaN</td>\n",
       "      <td>n.</td>\n",
       "      <td>2.0</td>\n",
       "      <td>19</td>\n",
       "      <td>7</td>\n",
       "      <td>abacus</td>\n",
       "      <td>abacus</td>\n",
       "      <td>{ b @ k @ s</td>\n",
       "      <td>æbəkəs</td>\n",
       "    </tr>\n",
       "    <tr>\n",
       "      <th>3</th>\n",
       "      <td>3</td>\n",
       "      <td>ābăʹndon</td>\n",
       "      <td>F.</td>\n",
       "      <td>NaN</td>\n",
       "      <td>NaN</td>\n",
       "      <td>v.</td>\n",
       "      <td>5.0</td>\n",
       "      <td>19</td>\n",
       "      <td>8</td>\n",
       "      <td>abandon</td>\n",
       "      <td>abandon</td>\n",
       "      <td>@ b { n d @ n</td>\n",
       "      <td>əbændən</td>\n",
       "    </tr>\n",
       "    <tr>\n",
       "      <th>4</th>\n",
       "      <td>4</td>\n",
       "      <td>ābăʹndŏned</td>\n",
       "      <td>NaN</td>\n",
       "      <td>NaN</td>\n",
       "      <td>NaN</td>\n",
       "      <td>a.</td>\n",
       "      <td>6.0</td>\n",
       "      <td>19</td>\n",
       "      <td>10</td>\n",
       "      <td>abandoned</td>\n",
       "      <td>abandoned</td>\n",
       "      <td>@ b { n d @ n d</td>\n",
       "      <td>əbændənd</td>\n",
       "    </tr>\n",
       "    <tr>\n",
       "      <th>7</th>\n",
       "      <td>2</td>\n",
       "      <td>ăbăʹſh</td>\n",
       "      <td>F.</td>\n",
       "      <td>NaN</td>\n",
       "      <td>NaN</td>\n",
       "      <td>v.</td>\n",
       "      <td>9.0</td>\n",
       "      <td>19</td>\n",
       "      <td>6</td>\n",
       "      <td>abash</td>\n",
       "      <td>abash</td>\n",
       "      <td>@ b { S</td>\n",
       "      <td>əbæʃ</td>\n",
       "    </tr>\n",
       "    <tr>\n",
       "      <th>8</th>\n",
       "      <td>2</td>\n",
       "      <td>ăbāʹte</td>\n",
       "      <td>F.</td>\n",
       "      <td>NaN</td>\n",
       "      <td>NaN</td>\n",
       "      <td>v.</td>\n",
       "      <td>10.0</td>\n",
       "      <td>19</td>\n",
       "      <td>6</td>\n",
       "      <td>abate</td>\n",
       "      <td>abate</td>\n",
       "      <td>@ b eI t</td>\n",
       "      <td>əbeIt</td>\n",
       "    </tr>\n",
       "  </tbody>\n",
       "</table>\n",
       "</div>"
      ],
      "text/plain": [
       "   nbSyll        pron origin warning remarques POS  lineId  pageId  sizePron  \\\n",
       "0       3     aʹbăcus    NaN     NaN       NaN  n.     2.0      19         7   \n",
       "3       3    ābăʹndon     F.     NaN       NaN  v.     5.0      19         8   \n",
       "4       4  ābăʹndŏned    NaN     NaN       NaN  a.     6.0      19        10   \n",
       "7       2      ăbăʹſh     F.     NaN       NaN  v.     9.0      19         6   \n",
       "8       2      ăbāʹte     F.     NaN       NaN  v.    10.0      19         6   \n",
       "\n",
       "  motVedette        hwd        pronSampa       ipa  \n",
       "0     abacus     abacus      { b @ k @ s    æbəkəs  \n",
       "3    abandon    abandon    @ b { n d @ n   əbændən  \n",
       "4  abandoned  abandoned  @ b { n d @ n d  əbændənd  \n",
       "7      abash      abash          @ b { S      əbæʃ  \n",
       "8      abate      abate         @ b eI t     əbeIt  "
      ]
     },
     "execution_count": 3,
     "metadata": {},
     "output_type": "execute_result"
    }
   ],
   "source": [
    "buchanan[buchanan.hwd.notnull()].head()"
   ]
  },
  {
   "cell_type": "code",
   "execution_count": 4,
   "metadata": {},
   "outputs": [],
   "source": [
    "def getAudioInfo(mot):\n",
    "    session = HTMLSession()\n",
    "    response = session.get(\"https://dictionary.cambridge.org/fr/dictionnaire/anglais/\"+mot)\n",
    "    html_doc = response.content\n",
    "    soup = BeautifulSoup(html_doc, 'html.parser')\n",
    "    words = soup.findAll(\"div\", {\"class\": \"pos-header dpos-h\"})\n",
    "    \n",
    "    words_list = []\n",
    "    \n",
    "    for word in words:\n",
    "        \n",
    "        row = []\n",
    "\n",
    "        #on prend toutes les infos necessaires (mp3, pos, ipa)\n",
    "        audioAll = word.findAll(type=\"audio/mpeg\")\n",
    "        posAll = word.findAll('span', {'class': 'pos dpos'})\n",
    "        ipaAll = word.findAll('span', {'class': 'ipa dipa lpr-2 lpl-1'})\n",
    "        \n",
    "        #on récupère pos et ipa\n",
    "        row.append(posAll[0].text)\n",
    "        row.append(ipaAll[0].text)\n",
    "        \n",
    "        #on récupère le chemin du mp3 selon la version uk ou us\n",
    "        for a in audioAll:\n",
    "            if \"uk_pron\" in a.get_attribute_list('src')[0]:\n",
    "                row.append(\"https://dictionary.cambridge.org/\"+a.get_attribute_list('src')[0])\n",
    "            elif len(audioAll)==1:\n",
    "                row.append(\"\")\n",
    "            \n",
    "            if \"us_pron\" in a.get_attribute_list('src')[0]:\n",
    "                row.append(\"https://dictionary.cambridge.org/\"+a.get_attribute_list('src')[0])\n",
    "            elif len(audioAll)==1:\n",
    "                row.append(\"\")\n",
    "                \n",
    "                \n",
    "        words_list.append(row)\n",
    "    \n",
    "    df = pd.DataFrame.from_records(words_list, columns=[\"pos\", \"ipa\", \"audio_uk\", \"audio_us\"])\n",
    "    \n",
    "    return df"
   ]
  },
  {
   "cell_type": "code",
   "execution_count": 5,
   "metadata": {},
   "outputs": [],
   "source": [
    "# definition du widget permettant de taper un texte \n",
    "textTarget = widgets.Text(\n",
    "       value=\"\",\n",
    "       description='Entrer un mot',\n",
    "       layout={'width': '200px'} )\n",
    "\n",
    "# definition du widget permettant de taper un texte pour l'ipa\n",
    "ipaTarget = widgets.Text(\n",
    "       value=\"\",\n",
    "       description='IPA',\n",
    "       layout={'width': '200px'} )\n",
    "\n",
    "# sélection d'une plage de valeurs\n",
    "rangeSyllMin = 1\n",
    "rangeSyllMax = 27\n",
    "optionsNbSyll = range(1, 27)\n",
    "wid_nbsyll = widgets.SelectionRangeSlider(\n",
    "    options=optionsNbSyll,\n",
    "    index=(min(optionsNbSyll)-1,max(optionsNbSyll)-1),\n",
    "    description='Nb syllabes',\n",
    "    disabled=False\n",
    ")\n",
    "\n",
    "nbResultMax = 20\n",
    "wid_nbResult = widgets.IntSlider(\n",
    "    value=nbResultMax,\n",
    "    min=1,\n",
    "    max=nbResultMax,\n",
    "    step=1,\n",
    "    description='Nb résultats max.',\n",
    "    disabled=False,\n",
    "    continuous_update=False,\n",
    "    orientation='horizontal',\n",
    "    readout=True,\n",
    "    readout_format='d'\n",
    ")"
   ]
  },
  {
   "cell_type": "code",
   "execution_count": 6,
   "metadata": {},
   "outputs": [],
   "source": [
    "# définition du widget button permettant de lancer l'extraction\n",
    "button = widgets.Button(description='Démarrer')\n",
    "\n",
    "# définition du widget permettant l'affichage d'une sortie\n",
    "cambridge = widgets.Output()\n",
    "longman = widgets.Output()\n",
    "linguee = widgets.Output()\n",
    "tableau = widgets.Output()\n",
    "    \n",
    "def removeRegex(inputString):\n",
    "    outputstring = \"\"\n",
    "    for c in inputString:\n",
    "        if c.isalpha():\n",
    "            outputstring += c\n",
    "    return outputstring\n",
    "\n",
    "# spécifier les actions à réaliser lors de l'appui sur le bouton\n",
    "def on_button_clicked(_):\n",
    "    \n",
    "    path = \"D:/Antoine/CNAM/3A/WS/cnam-athon-pronunciation-main/data/audio/\"\n",
    "\n",
    "    # récupérer le texte saisi par l'utilisateur\n",
    "    if len(textTarget.value) != 0:\n",
    "        colToUse = 'hwd'\n",
    "        targetWord = removeRegex(textTarget.value)\n",
    "        \n",
    "    else:\n",
    "        colToUse = 'ipa'\n",
    "    \n",
    "    with cambridge:\n",
    "        #Ne fonctionne pas corrctement avec le regex\n",
    "        clear_output()\n",
    "        urlCambridge = \"https://dictionary.cambridge.org/fr/dictionnaire/anglais/\"\n",
    "        urlTarget = urlCambridge+targetWord\n",
    "        display(HTML('<a href=\"'+urlTarget+'\" target=\"_blank\" >'+'Cambridge : '+targetWord+'</a>'))\n",
    "\n",
    "    with longman:\n",
    "        #Ne fonctionne pas corrctement avec le regex\n",
    "        clear_output()        \n",
    "        urlLongman = \"https://www.ldoceonline.com/dictionary/\"\n",
    "        urlTarget = urlLongman+targetWord\n",
    "        display(HTML('<a href=\"'+urlTarget+'\" target=\"_blank\" >'+'longman : '+targetWord+'</a>'))\n",
    "\n",
    "    with linguee:\n",
    "        #Ne fonctionne pas corrctement avec le regex\n",
    "        clear_output()\n",
    "        urlLinguee = \"https://www.linguee.fr/anglais-francais/traduction/\"\n",
    "        urlTarget = urlLinguee+targetWord+'.html'\n",
    "        display(HTML('<a href=\"'+urlTarget+'\" target=\"_blank\" >'+'linguee : '+targetWord+'</a>'))\n",
    "        \n",
    "    #filtrage tableau\n",
    "    buchananFiltered = buchanan[buchanan[colToUse].str.contains(textTarget.value, na=False, regex=True)]\n",
    "    buchananFiltered = buchananFiltered[buchananFiltered['nbSyll'].between(wid_nbsyll.value[0], wid_nbsyll.value[1], inclusive=True)]\n",
    "\n",
    "    with tableau:\n",
    "        clear_output()\n",
    "        display(buchananFiltered[['motVedette', 'nbSyll', 'pron', 'pronSampa', 'ipa']].head(n=wid_nbResult.value))\n",
    "           \n",
    "    for wordInfo in buchananFiltered.head(n=wid_nbResult.value).itertuples():\n",
    "        #TABLEAU\n",
    "        getAudioInfo(wordInfo.motVedette).head()\n",
    "        \n",
    "        if getAudioInfo(wordInfo.motVedette).empty:\n",
    "            print(\"pas d'informations pour\", wordInfo.motVedette)\n",
    "        \n",
    "        else:\n",
    "            row = [wordInfo.motVedette,\n",
    "                   getAudioInfo(wordInfo.motVedette)[0:1].ipa.values[0],\n",
    "                   getAudioInfo(wordInfo.motVedette)[0:1].pos.values[0],\n",
    "                   \"\",\n",
    "                   \"\"]\n",
    "            \n",
    "            #INFOS\n",
    "            items = [widgets.Label(row[0].upper()+\":\"), widgets.Label(row[2]), widgets.Label(\" - \"+row[1])]\n",
    "            display(widgets.HBox(items))\n",
    "            \n",
    "            #AUDIO - get_url\n",
    "            if len(getAudioInfo(wordInfo.motVedette)[0:1].audio_uk)>0:\n",
    "                row[3] = getAudioInfo(wordInfo.motVedette)[0:1].audio_uk.values[0]\n",
    "                audio_uk = True\n",
    "                #DOWNLOAD MP3\n",
    "                session_uk = HTMLSession()\n",
    "                audio = session_uk.get(row[3])\n",
    "                with open(path+wordInfo.motVedette+'_uk.mp3', 'wb') as f:\n",
    "                    f.write(audio.content)\n",
    "            if len(getAudioInfo(wordInfo.motVedette)[0:1].audio_us)>0:\n",
    "                row[4] = getAudioInfo(wordInfo.motVedette)[0:1].audio_us.values[0]\n",
    "                audio_us = True\n",
    "                #DOWNLOAD MP3\n",
    "                session_us = HTMLSession()\n",
    "                audio = session_us.get(row[4])\n",
    "                with open(path+wordInfo.motVedette+'_us.mp3', 'wb') as f:\n",
    "                    f.write(audio.content)\n",
    "            \n",
    "            #AUDIO - player\n",
    "            if audio_uk and audio_us:\n",
    "                audio_widgets = []\n",
    "                for i in range(2):\n",
    "                    if i == 0:\n",
    "                        #widget audio\n",
    "                        outAudio = widgets.Output()\n",
    "                        with outAudio:\n",
    "                            display(Audio(url=row[3]))\n",
    "                        \n",
    "                        #widget spectrogram\n",
    "                        y, sr = librosa.load(path+wordInfo.motVedette+'_uk.mp3')\n",
    "                        D = librosa.stft(y)  # STFT of y\n",
    "                        S_db = librosa.amplitude_to_db(np.abs(D), ref=np.max)\n",
    "                        \n",
    "                        outSpec = widgets.Output()\n",
    "                        with outSpec:\n",
    "                            fig, ax = plt.subplots()\n",
    "                            img = librosa.display.specshow(S_db, x_axis='time', y_axis='linear', ax=ax)\n",
    "                            ax.set(title='UK spectrogram')\n",
    "                            fig.colorbar(img, ax=ax, format=\"%+2.f dB\")\n",
    "                            plt.show(fig)\n",
    "                            \n",
    "                        audio_widgets.append(widgets.VBox([widgets.Label(\"UK\"), outAudio, outSpec]))\n",
    "                        \n",
    "                    if i == 1:\n",
    "                        #widget audio\n",
    "                        outAudio = widgets.Output()\n",
    "                        with outAudio:\n",
    "                            display(Audio(url=row[4]))\n",
    "                            \n",
    "                        #widget spectrogram\n",
    "                        y, sr = librosa.load(path+wordInfo.motVedette+'_us.mp3')\n",
    "                        D = librosa.stft(y)  # STFT of y\n",
    "                        S_db = librosa.amplitude_to_db(np.abs(D), ref=np.max)\n",
    "                        \n",
    "                        outSpec = widgets.Output()\n",
    "                        with outSpec:\n",
    "                            fig, ax = plt.subplots()\n",
    "                            img = librosa.display.specshow(S_db, x_axis='time', y_axis='linear', ax=ax)\n",
    "                            ax.set(title='US spectrogram')\n",
    "                            fig.colorbar(img, ax=ax, format=\"%+2.f dB\")\n",
    "                            plt.show(fig)\n",
    "                            \n",
    "                        audio_widgets.append(widgets.VBox([widgets.Label(\"US\"), outAudio, outSpec]))\n",
    "                    \n",
    "                display(widgets.HBox(audio_widgets))\n",
    "                \n",
    "            elif audio_uk:\n",
    "                #widget audio\n",
    "                outAudio = widgets.Output()\n",
    "                with outAudio:\n",
    "                    display(Audio(url=row[3]))\n",
    "                    \n",
    "                #widget spectrogram\n",
    "                y, sr = librosa.load(path+wordInfo.motVedette+'_uk.mp3')\n",
    "                D = librosa.stft(y)  # STFT of y\n",
    "                S_db = librosa.amplitude_to_db(np.abs(D), ref=np.max)\n",
    "                    \n",
    "                        \n",
    "                outSpec = widgets.Output()\n",
    "                with outSpec:\n",
    "                    fig, ax = plt.subplots()\n",
    "                    img = librosa.display.specshow(S_db, x_axis='time', y_axis='linear', ax=ax)\n",
    "                    ax.set(title='UK spectrogram')\n",
    "                    fig.colorbar(img, ax=ax, format=\"%+2.f dB\")\n",
    "                    plt.show(fig)\n",
    "\n",
    "                display(widgets.VBox([widgets.Label(\"UK\"), outAudio, outSpec]))   \n",
    "                \n",
    "                \n",
    "            else:\n",
    "                #widget audio\n",
    "                out = widgets.Output()\n",
    "                with out:\n",
    "                    display(Audio(url=row[4]))\n",
    "                    \n",
    "                #widget spectrogram\n",
    "                y, sr = librosa.load(path+wordInfo.motVedette+'_us.mp3')\n",
    "                D = librosa.stft(y)  # STFT of y\n",
    "                S_db = librosa.amplitude_to_db(np.abs(D), ref=np.max)\n",
    "                    \n",
    "                        \n",
    "                outSpec = widgets.Output()\n",
    "                with outSpec:\n",
    "                    fig, ax = plt.subplots()\n",
    "                    img = librosa.display.specshow(S_db, x_axis='time', y_axis='linear', ax=ax)\n",
    "                    ax.set(title='US spectrogram')\n",
    "                    fig.colorbar(img, ax=ax, format=\"%+2.f dB\")\n",
    "                    plt.show(fig)\n",
    "                    \n",
    "                display(widgets.VBox([widgets.Label(\"US\"), outAudio, outSpec])) \n",
    "                \n",
    "\n",
    "\n",
    "\n",
    "button.on_click(on_button_clicked)"
   ]
  },
  {
   "cell_type": "code",
   "execution_count": 7,
   "metadata": {},
   "outputs": [],
   "source": [
    "# définition du widget button permettant de lancer l'extraction\n",
    "button = widgets.Button(description='Démarrer')\n",
    "\n",
    "# définition du widget permettant l'affichage d'une sortie\n",
    "out1 = widgets.Output()\n",
    "out2 = widgets.Output()\n",
    "button.on_click(on_button_clicked)"
   ]
  },
  {
   "cell_type": "code",
   "execution_count": 8,
   "metadata": {
    "scrolled": false
   },
   "outputs": [
    {
     "data": {
      "application/vnd.jupyter.widget-view+json": {
       "model_id": "a62830035785477694057c8e46ee9528",
       "version_major": 2,
       "version_minor": 0
      },
      "text/plain": [
       "VBox(children=(HBox(children=(Text(value='', description='Entrer un mot', layout=Layout(width='200px')), Text(…"
      ]
     },
     "metadata": {},
     "output_type": "display_data"
    },
    {
     "data": {
      "application/vnd.jupyter.widget-view+json": {
       "model_id": "1a1252c2f20a44a0988df7c7ef8ea654",
       "version_major": 2,
       "version_minor": 0
      },
      "text/plain": [
       "HBox(children=(Label(value='BELOVED:'), Label(value='adjective'), Label(value=' - bɪˈlʌv.ɪd')))"
      ]
     },
     "metadata": {},
     "output_type": "display_data"
    },
    {
     "name": "stderr",
     "output_type": "stream",
     "text": [
      "D:\\Anaconda\\lib\\site-packages\\librosa\\core\\audio.py:165: UserWarning: PySoundFile failed. Trying audioread instead.\n",
      "  warnings.warn(\"PySoundFile failed. Trying audioread instead.\")\n",
      "D:\\Anaconda\\lib\\site-packages\\librosa\\core\\audio.py:165: UserWarning: PySoundFile failed. Trying audioread instead.\n",
      "  warnings.warn(\"PySoundFile failed. Trying audioread instead.\")\n"
     ]
    },
    {
     "data": {
      "application/vnd.jupyter.widget-view+json": {
       "model_id": "3f2649c5a8ca49f8a9ca3a7d402f0dd3",
       "version_major": 2,
       "version_minor": 0
      },
      "text/plain": [
       "HBox(children=(VBox(children=(Label(value='UK'), Output(), Output())), VBox(children=(Label(value='US'), Outpu…"
      ]
     },
     "metadata": {},
     "output_type": "display_data"
    },
    {
     "data": {
      "application/vnd.jupyter.widget-view+json": {
       "model_id": "fdb3de24c1c04538be3c46e2216f2f5f",
       "version_major": 2,
       "version_minor": 0
      },
      "text/plain": [
       "HBox(children=(Label(value='CLOVE:'), Label(value='noun'), Label(value=' - kləʊv')))"
      ]
     },
     "metadata": {},
     "output_type": "display_data"
    },
    {
     "data": {
      "application/vnd.jupyter.widget-view+json": {
       "model_id": "9ae930b8f46940f4bedbdd8c97857622",
       "version_major": 2,
       "version_minor": 0
      },
      "text/plain": [
       "HBox(children=(VBox(children=(Label(value='UK'), Output(), Output())), VBox(children=(Label(value='US'), Outpu…"
      ]
     },
     "metadata": {},
     "output_type": "display_data"
    },
    {
     "data": {
      "application/vnd.jupyter.widget-view+json": {
       "model_id": "da4bfea74d4544e8a968a83423a8e072",
       "version_major": 2,
       "version_minor": 0
      },
      "text/plain": [
       "HBox(children=(Label(value='CLOVER:'), Label(value='noun'), Label(value=' - ˈkləʊ.vər')))"
      ]
     },
     "metadata": {},
     "output_type": "display_data"
    },
    {
     "data": {
      "application/vnd.jupyter.widget-view+json": {
       "model_id": "a7911aaf9cb54c8f87c39a791cae1e57",
       "version_major": 2,
       "version_minor": 0
      },
      "text/plain": [
       "HBox(children=(VBox(children=(Label(value='UK'), Output(), Output())), VBox(children=(Label(value='US'), Outpu…"
      ]
     },
     "metadata": {},
     "output_type": "display_data"
    },
    {
     "data": {
      "application/vnd.jupyter.widget-view+json": {
       "model_id": "d625bc98eac7445bb99cea2aca99ee3c",
       "version_major": 2,
       "version_minor": 0
      },
      "text/plain": [
       "HBox(children=(Label(value='GLOVE:'), Label(value='noun'), Label(value=' - ɡlʌv')))"
      ]
     },
     "metadata": {},
     "output_type": "display_data"
    },
    {
     "data": {
      "application/vnd.jupyter.widget-view+json": {
       "model_id": "5d769c3ea2774a60b4b03adefae65cf6",
       "version_major": 2,
       "version_minor": 0
      },
      "text/plain": [
       "HBox(children=(VBox(children=(Label(value='UK'), Output(), Output())), VBox(children=(Label(value='US'), Outpu…"
      ]
     },
     "metadata": {},
     "output_type": "display_data"
    }
   ],
   "source": [
    "# les widgets de filtre input\n",
    "vbFiltres = widgets.HBox([textTarget, ipaTarget, wid_nbsyll, wid_nbResult, button])\n",
    "# les widgets d'output\n",
    "vbOuts = widgets.VBox([cambridge, longman, linguee, tableau])\n",
    "\n",
    "hbAllWidgets = widgets.VBox([vbFiltres, vbOuts])\n",
    "hbAllWidgets"
   ]
  },
  {
   "cell_type": "code",
   "execution_count": null,
   "metadata": {},
   "outputs": [],
   "source": []
  },
  {
   "cell_type": "code",
   "execution_count": null,
   "metadata": {},
   "outputs": [],
   "source": []
  }
 ],
 "metadata": {
  "kernelspec": {
   "display_name": "Python 3",
   "language": "python",
   "name": "python3"
  },
  "language_info": {
   "codemirror_mode": {
    "name": "ipython",
    "version": 3
   },
   "file_extension": ".py",
   "mimetype": "text/x-python",
   "name": "python",
   "nbconvert_exporter": "python",
   "pygments_lexer": "ipython3",
   "version": "3.8.8"
  }
 },
 "nbformat": 4,
 "nbformat_minor": 4
}
